{
  "nbformat": 4,
  "nbformat_minor": 0,
  "metadata": {
    "colab": {
      "provenance": [],
      "authorship_tag": "ABX9TyNFrMilp3RbNz1pjvoD/WcK",
      "include_colab_link": true
    },
    "kernelspec": {
      "name": "python3",
      "display_name": "Python 3"
    },
    "language_info": {
      "name": "python"
    }
  },
  "cells": [
    {
      "cell_type": "markdown",
      "metadata": {
        "id": "view-in-github",
        "colab_type": "text"
      },
      "source": [
        "<a href=\"https://colab.research.google.com/github/s402098/Python_for_ML_lab2/blob/lab1/lab1.ipynb\" target=\"_parent\"><img src=\"https://colab.research.google.com/assets/colab-badge.svg\" alt=\"Open In Colab\"/></a>"
      ]
    },
    {
      "cell_type": "markdown",
      "source": [
        "Task 1"
      ],
      "metadata": {
        "id": "fRf8M9lG_3qN"
      }
    },
    {
      "cell_type": "code",
      "execution_count": null,
      "metadata": {
        "colab": {
          "base_uri": "https://localhost:8080/"
        },
        "id": "EqRVkNXc-4HR",
        "outputId": "9f4cbe2c-8fcf-496c-8df4-0473d7134a74"
      },
      "outputs": [
        {
          "output_type": "stream",
          "name": "stdout",
          "text": [
            "sum of 5 and 9 is 14\n"
          ]
        }
      ],
      "source": [
        "a = 5;\n",
        "b = 9;\n",
        "c = a + b;\n",
        "print(f\"sum of {a} and {b} is {c}\")"
      ]
    },
    {
      "cell_type": "code",
      "source": [
        "a2 = 2;\n",
        "b2 = 4;\n",
        "c2 = b2*a2;\n",
        "print(c2)"
      ],
      "metadata": {
        "colab": {
          "base_uri": "https://localhost:8080/"
        },
        "id": "owpGuTqi_mxH",
        "outputId": "4f686bcc-b830-4ce6-e466-3c36be3ff0e1"
      },
      "execution_count": null,
      "outputs": [
        {
          "output_type": "stream",
          "name": "stdout",
          "text": [
            "8\n"
          ]
        }
      ]
    },
    {
      "cell_type": "markdown",
      "source": [
        "Task 2"
      ],
      "metadata": {
        "id": "vxvx7T6W_8Cs"
      }
    },
    {
      "cell_type": "code",
      "source": [
        "import random\n",
        "a = 1\n",
        "while random.random() < 0.8:\n",
        "  a += 1\n",
        "print(f\"loop went through {a} times\")\n",
        "if a > 5:\n",
        "  print(\"unlucky\")\n",
        "else:\n",
        "  print(\"lucky\")"
      ],
      "metadata": {
        "colab": {
          "base_uri": "https://localhost:8080/"
        },
        "id": "08k9jnuj_7lU",
        "outputId": "e0ee974d-4b3b-40ae-f121-43e63a1e1fa5"
      },
      "execution_count": null,
      "outputs": [
        {
          "output_type": "stream",
          "name": "stdout",
          "text": [
            "loop went through 10 times\n",
            "unlucky\n"
          ]
        }
      ]
    },
    {
      "cell_type": "markdown",
      "source": [
        "Task 3"
      ],
      "metadata": {
        "id": "VAmjSF4GCKza"
      }
    },
    {
      "cell_type": "code",
      "source": [
        "import random\n",
        "def fun(t):\n",
        "  a = 1\n",
        "  while random.random() < t:\n",
        "    a += 1\n",
        "  print(f\"loop went through {a} times\")\n",
        "  if a > 1/(1-t):\n",
        "    print(\"unlucky\")\n",
        "  else:\n",
        "    print(\"lucky\")\n",
        "\n",
        "fun(0.4)\n",
        "fun(0.1)\n",
        "fun(0.8)\n",
        "fun(0.9)\n",
        "fun(0.6)"
      ],
      "metadata": {
        "colab": {
          "base_uri": "https://localhost:8080/"
        },
        "id": "2wcoa0AqCKbs",
        "outputId": "5cb8ad4e-c883-4c64-a9a5-5b4dc2863e62"
      },
      "execution_count": null,
      "outputs": [
        {
          "output_type": "stream",
          "name": "stdout",
          "text": [
            "loop went through 2 times\n",
            "unlucky\n",
            "loop went through 1 times\n",
            "lucky\n",
            "loop went through 21 times\n",
            "unlucky\n",
            "loop went through 2 times\n",
            "lucky\n",
            "loop went through 3 times\n",
            "unlucky\n"
          ]
        }
      ]
    },
    {
      "cell_type": "markdown",
      "source": [
        "Task 4"
      ],
      "metadata": {
        "id": "GCufRYMFDXY1"
      }
    },
    {
      "cell_type": "code",
      "source": [
        "import math\n",
        "a = 3\n",
        "b = -4\n",
        "c = -2\n",
        "\n",
        "sqrt_delta = math.sqrt((b*b)-4*(a*c))\n",
        "x1 = (-b+sqrt_delta)/(2*a)\n",
        "x2 = (-b-sqrt_delta)/(2*a)\n",
        "\n",
        "print(f\"equation solved for x1={x1} and x2={x2}\")"
      ],
      "metadata": {
        "colab": {
          "base_uri": "https://localhost:8080/"
        },
        "id": "AoEzfLQHDYus",
        "outputId": "7c1c068a-28f4-4a29-a3f7-1f76668fa146"
      },
      "execution_count": null,
      "outputs": [
        {
          "output_type": "stream",
          "name": "stdout",
          "text": [
            "equation solved for x1=1.7207592200561266 and x2=-0.38742588672279316\n"
          ]
        }
      ]
    },
    {
      "cell_type": "markdown",
      "source": [
        "Task 5"
      ],
      "metadata": {
        "id": "jUXi3p9zEwcG"
      }
    },
    {
      "cell_type": "code",
      "source": [
        "import math\n",
        "\n",
        "def solv(a,b,c):\n",
        "  sqrt_delta = math.sqrt((b*b)-4*(a*c))\n",
        "  x1 = (-b+sqrt_delta)/(2*a)\n",
        "  x2 = (-b-sqrt_delta)/(2*a)\n",
        "  print(f\"equation solved for x1={x1} and x2={x2}\")\n",
        "  return [x1, x2]\n",
        "\n",
        "[t1,t2] = solv(3,-4,-2)\n",
        "\n"
      ],
      "metadata": {
        "colab": {
          "base_uri": "https://localhost:8080/"
        },
        "id": "-DLLwj5GEyjG",
        "outputId": "47f68214-9a99-4d67-952e-772813ed2ef5"
      },
      "execution_count": null,
      "outputs": [
        {
          "output_type": "stream",
          "name": "stdout",
          "text": [
            "equation solved for x1=1.7207592200561266 and x2=-0.38742588672279316\n"
          ]
        }
      ]
    },
    {
      "cell_type": "markdown",
      "source": [
        "Section 4"
      ],
      "metadata": {
        "id": "Y7fUA4S-FXCc"
      }
    },
    {
      "cell_type": "code",
      "source": [
        "from math import sqrt\n",
        "class TwoDCar:\n",
        "  def __init__(self, color='red'):\n",
        "    self.position = [0, 0]\n",
        "    self.distance_traveled = 0\n",
        "    self.color = color\n",
        "\n",
        "  def move2D(self, move_vector):\n",
        "    self.position[0] = self.position[0] + move_vector[0]\n",
        "    self.position[1] = self.position[1] + move_vector[1]\n",
        "    dist = sqrt(move_vector[0]**2 + move_vector[1]**2)\n",
        "    self.distance_traveled = self.distance_traveled + dist\n",
        "\n",
        "car_default = TwoDCar()\n",
        "car_blue = TwoDCar(color='blue')\n",
        "\n",
        "car_blue.move2D([10,0])\n",
        "car_blue.move2D([5,5])\n",
        "\n",
        "print(car_blue.position)\n",
        "print(car_blue.distance_traveled)\n",
        "car_blue.distance_traveled = 0\n",
        "\n"
      ],
      "metadata": {
        "colab": {
          "base_uri": "https://localhost:8080/"
        },
        "id": "pAOz19JBFYes",
        "outputId": "41fd2f1a-269a-4f36-c38f-dc9a5ac5ce66"
      },
      "execution_count": null,
      "outputs": [
        {
          "output_type": "stream",
          "name": "stdout",
          "text": [
            "[15, 5]\n",
            "17.071067811865476\n"
          ]
        }
      ]
    },
    {
      "cell_type": "code",
      "source": [
        "import numpy as np\n",
        "import matplotlib.pyplot as plt\n",
        "\n",
        "def rectangle_circumference(a, b):\n",
        "  return 2*a + 2*b\n",
        "\n",
        "def rectangle_area(a, b):\n",
        "  return a*b\n",
        "\n",
        "value_count = 20\n",
        "# initializing vectors of 20 random values scaled from 0 to 1\n",
        "random_sides_a = np.random.rand(value_count)\n",
        "random_sides_b = np.random.rand(value_count)\n",
        "\n",
        "# scaling and shifting the vectors to range from 1 to 10\n",
        "random_sides_a = (random_sides_a * 9) + 1\n",
        "random_sides_b = (random_sides_b * 9) + 1\n",
        "\n",
        "# initializing empty lists\n",
        "circumferences = []\n",
        "areas = []\n",
        "\n",
        "for i in range(value_count):\n",
        "  # appending values to lists\n",
        "  circumferences.append(rectangle_circumference(random_sides_a[i],\n",
        "  random_sides_b[i]))\n",
        "  areas.append(rectangle_area(random_sides_a[i], random_sides_b[i]))\n",
        "\n",
        "# utilizing zip to iterate over several collections at the same time\n",
        "for a, b, circ, area in zip(random_sides_a, random_sides_b, circumferences, areas):\n",
        "  print(f'sides {a} and {b}, circumference {circ}, area {area}')\n",
        "# printing newline to separate output logs\n",
        "print('\\n')\n",
        "# obtaining order of indices by ascending value\n",
        "order = np.argsort(areas)\n",
        "\n",
        "# utilizing enumerate() to get a helper variable for iteration number\n",
        "for iteration_no, index in enumerate(order):\n",
        "  print(f'{iteration_no} place, rectangle #{index}, area {areas[index]}')\n",
        "\n",
        "plt.plot(sorted(areas))\n",
        "plt.title('distribution of areas of rectangles')\n",
        "plt.xlabel('sample #')\n",
        "plt.ylabel('area [units^2]')\n",
        "plt.grid()\n",
        "plt.show()\n",
        "plt.plot(sorted(circumferences))\n",
        "plt.title('distribution of circumferences of rectangles')\n",
        "plt.xlabel('sample #')\n",
        "plt.ylabel('circumference [units^2]')\n",
        "plt.grid()\n",
        "plt.show()\n"
      ],
      "metadata": {
        "colab": {
          "base_uri": "https://localhost:8080/",
          "height": 1000
        },
        "id": "QUi_D2ZtHTlr",
        "outputId": "a98fb667-361f-4b27-a1fd-a2fe4ac06baf"
      },
      "execution_count": null,
      "outputs": [
        {
          "output_type": "stream",
          "name": "stdout",
          "text": [
            "sides 4.8611505259033425 and 7.852900623090909, circumference 25.428102297988502, area 38.174131993805055\n",
            "sides 6.756851410857046 and 2.3952648719110883, circumference 18.304232565536267, area 16.18444882914876\n",
            "sides 9.75711234077719 and 8.030962577442782, circumference 35.576149836439946, area 78.35900407268676\n",
            "sides 8.313191214613873 and 9.62003457620228, circumference 35.866451581632305, area 79.97318692316648\n",
            "sides 5.916780296780914 and 6.808278253185828, circumference 25.450117099933486, area 40.28308662345189\n",
            "sides 7.311301273049683 and 6.33396436663372, circumference 27.290531279366803, area 46.30952173722044\n",
            "sides 4.305547534872312 and 2.1400276262907134, circumference 12.89115032232605, area 9.213990670934626\n",
            "sides 6.846088352587657 and 9.404698519161606, circumference 32.501573743498525, area 64.38539699163066\n",
            "sides 3.1211359310844475 and 7.413595559395537, circumference 21.06946298095997, area 23.138839478957514\n",
            "sides 3.0947178180122537 and 1.6675902184972964, circumference 9.5246160730191, area 5.1607211623265306\n",
            "sides 3.409354344671932 and 8.067811236619733, circumference 22.95433116258333, area 27.506027291562518\n",
            "sides 8.512628843008692 and 2.626338058315295, circumference 22.277933802647972, area 22.357041106706223\n",
            "sides 9.523440929057935 and 1.9104974307539158, circumference 22.867876719623702, area 18.19450942690187\n",
            "sides 9.944185302466568 and 3.339590739027011, circumference 26.56755208298716, area 33.20950914328587\n",
            "sides 9.547504021553038 and 7.559334604757426, circumference 34.213677252620926, area 72.17277753918657\n",
            "sides 3.2377339998317214 and 4.718979792573346, circumference 15.913427584810133, area 15.278801318933565\n",
            "sides 5.822852517368407 and 5.832691922311714, circumference 23.31108887936024, area 33.96290484286713\n",
            "sides 3.5630948108569016 and 2.9724747396364197, circumference 13.071139100986642, area 10.591209320201747\n",
            "sides 4.70890981683498 and 2.498553955763618, circumference 14.414927545197196, area 11.765465250187173\n",
            "sides 3.7438861098295106 and 3.318901167606503, circumference 14.125574554872028, area 12.425587981298932\n",
            "\n",
            "\n",
            "0 place, rectangle #9, area 5.1607211623265306\n",
            "1 place, rectangle #6, area 9.213990670934626\n",
            "2 place, rectangle #17, area 10.591209320201747\n",
            "3 place, rectangle #18, area 11.765465250187173\n",
            "4 place, rectangle #19, area 12.425587981298932\n",
            "5 place, rectangle #15, area 15.278801318933565\n",
            "6 place, rectangle #1, area 16.18444882914876\n",
            "7 place, rectangle #12, area 18.19450942690187\n",
            "8 place, rectangle #11, area 22.357041106706223\n",
            "9 place, rectangle #8, area 23.138839478957514\n",
            "10 place, rectangle #10, area 27.506027291562518\n",
            "11 place, rectangle #13, area 33.20950914328587\n",
            "12 place, rectangle #16, area 33.96290484286713\n",
            "13 place, rectangle #0, area 38.174131993805055\n",
            "14 place, rectangle #4, area 40.28308662345189\n",
            "15 place, rectangle #5, area 46.30952173722044\n",
            "16 place, rectangle #7, area 64.38539699163066\n",
            "17 place, rectangle #14, area 72.17277753918657\n",
            "18 place, rectangle #2, area 78.35900407268676\n",
            "19 place, rectangle #3, area 79.97318692316648\n"
          ]
        },
        {
          "output_type": "display_data",
          "data": {
            "text/plain": [
              "<Figure size 640x480 with 1 Axes>"
            ],
            "image/png": "[encoded data removed]"
          },
          "metadata": {}
        },
        {
          "output_type": "display_data",
          "data": {
            "text/plain": [
              "<Figure size 640x480 with 1 Axes>"
            ],
            "image/png": "[encoded data removed]"
          },
          "metadata": {}
        }
      ]
    },
    {
      "cell_type": "markdown",
      "source": [
        "Task 6"
      ],
      "metadata": {
        "id": "dNFvBDpPI3wV"
      }
    },
    {
      "cell_type": "code",
      "source": [
        "import numpy as np\n",
        "values1 = np.random.rand(20)\n",
        "values2 = np.random.rand(20)\n",
        "\n",
        "values_lower = []\n",
        "values_higher = []\n",
        "\n",
        "for i1, i2 in zip(values1, values2):\n",
        "  if i1 < 0.5:\n",
        "    values_lower.append(i1)\n",
        "  else:\n",
        "    values_higher.append(i1)\n",
        "  if i2 < 0.5:\n",
        "    values_lower.append(i2)\n",
        "  else:\n",
        "    values_higher.append(i2)\n",
        "\n",
        "print(\"length of values_lower and its contents\")\n",
        "print(values_lower)\n",
        "print(len(values_lower))\n",
        "print(\"length of values_higher and its contents\")\n",
        "print(values_higher)\n",
        "print(len(values_higher))\n",
        "\n"
      ],
      "metadata": {
        "colab": {
          "base_uri": "https://localhost:8080/"
        },
        "id": "fvMPOx7sI5kV",
        "outputId": "3e07d3f3-60cb-4612-ca82-0815fd6fee23"
      },
      "execution_count": null,
      "outputs": [
        {
          "output_type": "stream",
          "name": "stdout",
          "text": [
            "length of values_lower and its contents\n",
            "[0.4364989435706438, 0.4237227584997364, 0.24977176544571045, 0.36830369124890205, 0.22458253756227142, 0.3482048551765625, 0.06162253632759451, 0.0727005759115581, 0.4515786687667559, 0.030587877257317375, 0.05640937085297715, 0.3976301518165528, 0.34426951482521206, 0.38604562139070375, 0.20177496067653244, 0.015105089688023043, 0.43243092532906824, 0.36004400448254814, 0.13706293902496225, 0.024410638163176124, 0.007715015799218183, 0.39872086224582226]\n",
            "22\n",
            "length of values_higher and its contents\n",
            "[0.7432698167098243, 0.941632004400676, 0.6015483863949571, 0.6879632143261307, 0.7438531091173335, 0.9582005643491827, 0.7072000809325579, 0.5338737861916809, 0.6039325872686174, 0.7813733463658876, 0.5958498381466332, 0.5531712234212763, 0.8501000994120742, 0.6362015167771936, 0.7932850472246213, 0.7357760397636648, 0.6988354347728528, 0.9850931766238069]\n",
            "18\n"
          ]
        }
      ]
    },
    {
      "cell_type": "markdown",
      "source": [
        "Task 7"
      ],
      "metadata": {
        "id": "5PKIvHIeMC0P"
      }
    },
    {
      "cell_type": "code",
      "source": [
        "import numpy as np\n",
        "values1 = np.random.rand(20)\n",
        "values2 = np.random.rand(20)\n",
        "\n",
        "values_lower = []\n",
        "values_higher = []\n",
        "\n",
        "for iter, (i1, i2) in enumerate(zip(values1, values2)):\n",
        "  if i1 < 0.5:\n",
        "    values_lower.append([i1,1,iter])\n",
        "  else:\n",
        "    values_higher.append([i1,1,iter])\n",
        "  if i2 < 0.5:\n",
        "    values_lower.append([i2,2,iter])\n",
        "  else:\n",
        "    values_higher.append([i2,2,iter])\n",
        "\n",
        "print(\"length of values_lower and its contents\")\n",
        "print(values_lower)\n",
        "print(len(values_lower))\n",
        "print(\"length of values_higher and its contents\")\n",
        "print(values_higher)\n",
        "print(len(values_higher))"
      ],
      "metadata": {
        "colab": {
          "base_uri": "https://localhost:8080/"
        },
        "id": "oimDRcTRMEa1",
        "outputId": "bc35a7a5-99bf-440f-98f6-d81918a9dcb1"
      },
      "execution_count": null,
      "outputs": [
        {
          "output_type": "stream",
          "name": "stdout",
          "text": [
            "length of values_lower and its contents\n",
            "[[0.10452627059864539, 2, 0], [0.26224856171597644, 1, 1], [0.23946535557565618, 1, 2], [0.24744051318252336, 2, 2], [0.4257191856689799, 2, 3], [0.3713591824548086, 1, 4], [0.2545319564516936, 1, 5], [0.47802770130499683, 1, 6], [0.4775109171047722, 1, 7], [0.4343329651722887, 2, 8], [0.41923742259135865, 1, 9], [0.2573209903420617, 2, 9], [0.44304400874972605, 1, 11], [0.33867763218706715, 2, 11], [0.38691191837416117, 2, 13], [0.49868829445275764, 1, 15], [0.2386504177385269, 2, 17], [0.12635972635063908, 2, 18], [0.4559251595835472, 2, 19]]\n",
            "19\n",
            "length of values_higher and its contents\n",
            "[[0.9828542070925925, 1, 0], [0.7372566341708973, 2, 1], [0.9043218604541361, 1, 3], [0.8349494098275209, 2, 4], [0.7364086423712254, 2, 5], [0.6335244768769838, 2, 6], [0.9786017563574082, 2, 7], [0.7292972921556439, 1, 8], [0.779040582264996, 1, 10], [0.8062156141795289, 2, 10], [0.8044058211097544, 1, 12], [0.9722838684335388, 2, 12], [0.6301345136449678, 1, 13], [0.8099979551026388, 1, 14], [0.6111147992008007, 2, 14], [0.9044451985220958, 2, 15], [0.7379010663405042, 1, 16], [0.9475351272077295, 2, 16], [0.8908366351097532, 1, 17], [0.8204056788798911, 1, 18], [0.9192563554273455, 1, 19]]\n",
            "21\n"
          ]
        }
      ]
    },
    {
      "cell_type": "markdown",
      "source": [
        "Task 8"
      ],
      "metadata": {
        "id": "QgP3hIz4PExC"
      }
    },
    {
      "cell_type": "code",
      "source": [
        "\n",
        "class Sorting:\n",
        "  def __init__(self):\n",
        "    self.values_lower = []\n",
        "    self.values_higher = []\n",
        "\n",
        "  def input(self, input_vector):\n",
        "    for i in input_vector:\n",
        "      if i < 0.5:\n",
        "        self.values_lower.append(i)\n",
        "      else:\n",
        "        self.values_higher.append(i)\n",
        "  def output(self):\n",
        "    print(\"length of values_lower = \" + str(len(self.values_lower)) + \" and its content: \")\n",
        "    print(self.values_lower)\n",
        "    print(\"length of values_higher = \" + str(len(self.values_higher)) + \" and its content: \")\n",
        "    print(self.values_higher)\n",
        "\n",
        "sortowanie1 = Sorting()\n",
        "sortowanie1.input([0.1, 0.2, 0.3, 0.4, 0.5, 0.6, 0.7, 0.8, 0.9])\n",
        "sortowanie1.output()\n",
        "\n"
      ],
      "metadata": {
        "colab": {
          "base_uri": "https://localhost:8080/"
        },
        "id": "S4xXdIBdPGdB",
        "outputId": "72d896b3-6563-4a8e-c2d4-f62b7771031b"
      },
      "execution_count": null,
      "outputs": [
        {
          "output_type": "stream",
          "name": "stdout",
          "text": [
            "length of values_lower = 4 and its content: \n",
            "[0.1, 0.2, 0.3, 0.4]\n",
            "length of values_higher = 5 and its content: \n",
            "[0.5, 0.6, 0.7, 0.8, 0.9]\n"
          ]
        }
      ]
    },
    {
      "cell_type": "markdown",
      "source": [
        "***Task 9***"
      ],
      "metadata": {
        "id": "45sqLPH6Sak6"
      }
    },
    {
      "cell_type": "code",
      "source": [
        "import numpy as np\n",
        "import matplotlib.pyplot as plt\n",
        "\n",
        "def rectangle_circumference(a, b):\n",
        "  return 2*a + 2*b\n",
        "\n",
        "def rectangle_area(a, b):\n",
        "  return a*b\n",
        "\n",
        "value_count = 20\n",
        "# initializing vectors of 20 random values scaled from 0 to 1\n",
        "random_sides_a = np.random.rand(value_count)\n",
        "random_sides_b = np.random.rand(value_count)\n",
        "\n",
        "# scaling and shifting the vectors to range from 1 to 10\n",
        "random_sides_a = (random_sides_a * 9) + 1\n",
        "random_sides_b = (random_sides_b * 9) + 1\n",
        "\n",
        "# initializing empty lists\n",
        "circumferences = []\n",
        "areas = []\n",
        "for i in range(value_count):\n",
        "  # appending values to lists\n",
        "  circumferences.append(rectangle_circumference(random_sides_a[i],\n",
        "  random_sides_b[i]))\n",
        "  areas.append(rectangle_area(random_sides_a[i], random_sides_b[i]))\n",
        "\n",
        "# utilizing zip to iterate over several collections at the same time\n",
        "for a, b, circ, area in zip(random_sides_a, random_sides_b, circumferences, areas):\n",
        " print(f'sides {a} and {b}, circumference {circ}, area {area}')\n",
        "# printing newline to separate output logs\n",
        "print('\\n')\n",
        "# obtaining order of indices by ascending value\n",
        "order = np.argsort(areas)\n",
        "# utilizing enumerate() to get a helper variable for iteration number\n",
        "for iteration_no, index in enumerate(order):\n",
        " print(f'{iteration_no} place, rectangle #{index}, area {areas[index]}')\n",
        "plt.plot(sorted(areas))\n",
        "plt.title('distribution of areas of rectangles')\n",
        "plt.xlabel('sample #')\n",
        "8\n",
        "plt.ylabel('area [units^2]')\n",
        "plt.grid()\n",
        "plt.show()\n",
        "plt.plot(sorted(circumferences))\n",
        "plt.title('distribution of circumferences of rectangles')\n",
        "plt.xlabel('sample #')\n",
        "plt.ylabel('circumference [units^2]')\n",
        "plt.grid()\n",
        "plt.show()"
      ],
      "metadata": {
        "id": "ugsMyGuFSgaw"
      },
      "execution_count": null,
      "outputs": []
    }
  ]
}